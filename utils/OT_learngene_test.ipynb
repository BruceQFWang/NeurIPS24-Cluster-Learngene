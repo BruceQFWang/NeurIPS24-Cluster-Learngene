{
 "cells": [
  {
   "cell_type": "code",
   "execution_count": 4,
   "id": "c9d241d9-814b-4b0f-b4d1-af7b99df0abd",
   "metadata": {},
   "outputs": [
    {
     "name": "stdout",
     "output_type": "stream",
     "text": [
      "tensor([0.5000, 0.5000, 0.5000, 0.5000, 0.5000, 0.5000])\n",
      "0\n",
      "0.41085106134414673\n",
      "0\n",
      "0.4849617\n",
      "0\n",
      "0.014769554\n",
      "0\n",
      "0.00019866228\n",
      "OT_matrix\n",
      "tensor([[0.1495, 0.1659, 0.1846],\n",
      "        [0.1543, 0.1550, 0.1906],\n",
      "        [0.1543, 0.1550, 0.1906],\n",
      "        [0.2121, 0.1578, 0.1301],\n",
      "        [0.1549, 0.1720, 0.1731],\n",
      "        [0.1749, 0.1941, 0.1310]])\n",
      "final\n",
      "0.81180024\n",
      "[0, 0, 0, 0, 0, 0, 1, 2, 3, 4, 0, 2, 4, 6, 8, 0, 3, 6, 9, 12, 0, 4, 8, 12, 16]\n"
     ]
    }
   ],
   "source": [
    "import torch\n",
    "import torch.nn as nn\n",
    "import torch.nn.functional as F\n",
    "from time import time\n",
    "import numpy as np\n",
    "\n",
    "# https://github.com/coderlemon17/LemonScripts/blob/master/OptimalTransport/OT.ipynb\n",
    "\n",
    "device = torch.device(\"cuda\" if torch.cuda.is_available() else \"cpu\")\n",
    "# numpy写的\n",
    "def compute_optimal_transport(M, r, c, lam, epsilon=1e-5):\n",
    "    \"\"\"\n",
    "    Computes the optimal transport matrix and Slinkhorn distance using the\n",
    "    Sinkhorn-Knopp algorithm\n",
    "\n",
    "    Inputs:\n",
    "        - M : cost matrix (n x m)\n",
    "        - r : vector of marginals (n, )\n",
    "        - c : vector of marginals (m, )\n",
    "        - lam : strength of the entropic regularization  \n",
    "        - epsilon : convergence parameter\n",
    "\n",
    "    Output:\n",
    "        - P : optimal transport matrix (n x m)\n",
    "        - dist : Sinkhorn distance\n",
    "    \"\"\"\n",
    "    n, m = M.shape\n",
    "    P = np.exp(- lam * M)\n",
    "    # Avoiding poor math condition\n",
    "    P /= P.sum()\n",
    "    u = np.zeros(n)\n",
    "    # Normalize this matrix so that P.sum(1) == r, P.sum(0) == c\n",
    "    cnt = 0\n",
    "    while np.max(np.abs(u - P.sum(1))) > epsilon:\n",
    "        if cnt%100 == 0:\n",
    "            print(cnt)\n",
    "            print(np.max(np.abs(u - P.sum(1))))\n",
    "        # Shape (n, )\n",
    "        u = P.sum(1)\n",
    "        P *= (r / u).reshape((-1, 1))\n",
    "        P *= (c / P.sum(0)).reshape((1, -1))\n",
    "    return P, np.sum(P * M)\n",
    "\n",
    "layer_similarity = torch.tensor([[0.92, 0.92, 0.90],  [0.92, 0.91, 0.90], [0.81, 0.80, 0.79], [0.52, 0.48, 0.43], [0.61, 0.61, 0.58], [0.69, 0.69, 0.62]])\n",
    "Cost = 1.0 - layer_similarity \n",
    "NA = 6 # number of layers in the Ancestry model\n",
    "ND = 3 # number of layers in the Descendant model\n",
    "r = torch.ones((NA), device=Cost.device, dtype=Cost.dtype)/6.0 * 3.0 \n",
    "c = torch.ones((ND), device=Cost.device, dtype=Cost.dtype)\n",
    "\n",
    "lam = 10\n",
    "P, d = compute_optimal_transport(Cost.numpy(), r.numpy(), c.numpy(), lam=lam)\n",
    "print(\"OT_matrix\")\n",
    "print(torch.from_numpy(P))\n",
    "print(\"final\")\n",
    "print(d)\n",
    "\n",
    "loss_matrix = [i*j for i in range(5) for j in range(5)]\n",
    "print(loss_matrix)"
   ]
  },
  {
   "cell_type": "code",
   "execution_count": null,
   "id": "cdd8ae0b-9117-44ae-a77e-d05ce2c2ec16",
   "metadata": {},
   "outputs": [],
   "source": []
  }
 ],
 "metadata": {
  "kernelspec": {
   "display_name": "py39",
   "language": "python",
   "name": "py39"
  },
  "language_info": {
   "codemirror_mode": {
    "name": "ipython",
    "version": 3
   },
   "file_extension": ".py",
   "mimetype": "text/x-python",
   "name": "python",
   "nbconvert_exporter": "python",
   "pygments_lexer": "ipython3",
   "version": "3.9.12"
  }
 },
 "nbformat": 4,
 "nbformat_minor": 5
}
